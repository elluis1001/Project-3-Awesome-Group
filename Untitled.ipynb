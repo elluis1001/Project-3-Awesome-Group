{
 "cells": [
  {
   "cell_type": "code",
   "execution_count": 1,
   "id": "3f9a2153",
   "metadata": {},
   "outputs": [],
   "source": [
    "import requests\n",
    "import json\n",
    "\n"
   ]
  },
  {
   "cell_type": "code",
   "execution_count": 2,
   "id": "ccef087f",
   "metadata": {},
   "outputs": [
    {
     "name": "stdout",
     "output_type": "stream",
     "text": [
      "{\"station_locator_url\":\"https://afdc.energy.gov/stations/\",\"total_results\":79847,\"station_counts\":{\"total\":195812,\"fuels\":{\"BD\":{\"total\":1701},\"E85\":{\"total\":4525},\"ELEC\":{\"total\":184488,\"stations\":{\"total\":68523}},\"HY\":{\"total\":119},\"LNG\":{\"total\":121},\"CNG\":{\"total\":1424},\"LPG\":{\"total\":2824},\"RD\":{\"total\":610}}},\"fuel_stations\":[{\"access_code\":\"private\",\"access_days_time\":null,\"access_detail_code\":null,\"cards_accepted\":null,\"date_last_confirmed\":\"2023-04-06\",\"expected_date\":null,\"fuel_type_code\":\"CNG\",\"groups_with_access_code\":\"Private\",\"id\":17,\"open_date\":\"2010-12-01\",\"owner_type_code\":\"T\",\"status_code\":\"E\",\"restricted_access\":null,\"maximum_vehicle_class\":\"MD\",\"station_name\":\"Spire - Montgomery Operations Center\",\"station_phone\":null,\"updated_at\":\"2023-05-30T18:46:28Z\",\"facility_type\":\"STANDALONE_STATION\",\"geocode_status\":\"200-9\",\"latitude\":32.367916,\"longitude\":-86.267021,\"city\":\"Montgomery\",\"intersection_directions\":null,\"plus4\":null,\"state\":\"AL\",\"street_address\":\"2951 Chestnut St\",\"zip\":\"36107\",\"country\":\"US\",\"bd_blends\":null,\"cng_dispenser_num\":null,\"cng_fill_type_code\":\"B\",\"cng_psi\":\"3600\",\"cng_renewable_source\":null,\"cng_total_compression\":null,\"cng_total_storage\":null,\"cng_vehicle_class\":\"MD\",\"cng_has_rng\":false,\"e85_blender_pump\":null,\"e85_other_ethanol_blends\":null,\"ev_connector_types\":null,\"ev_dc_fast_num\":null,\"ev_level1_evse_num\":null,\"ev_level2_evse_num\":null,\"ev_network\":null,\"ev_network_web\":null,\"ev_other_evse\":null,\"ev_pricing\":null,\"ev_renewable_source\":null,\"ev_workplace_charging\":null,\"hy_is_retail\":null,\"hy_pressures\":null,\"hy_standards\":null,\"hy_status_link\":null,\"lng_renewable_source\":null,\"lng_vehicle_class\":null,\"lng_has_rng\":null,\"lpg_primary\":null,\"lpg_nozzle_types\":null,\"ng_fill_type_code\":\"B\",\"ng_psi\":\"3600\",\"ng_vehicle_class\":\"MD\",\"rd_blends\":null,\"rd_blends_fr\":null,\"rd_blended_with_biodiesel\":null,\"rd_max_biodiesel_level\":null,\"nps_unit_name\":null,\"access_days_time_fr\":null,\"intersection_directions_fr\":null,\"bd_blends_fr\":null,\"groups_with_access_code_fr\":\"Privé\",\"ev_pricing_fr\":null}]}<Response [200]>\n",
      "{'station_locator_url': 'https://afdc.energy.gov/stations/', 'total_results': 79847, 'station_counts': {'total': 195812, 'fuels': {'BD': {'total': 1701}, 'E85': {'total': 4525}, 'ELEC': {'total': 184488, 'stations': {'total': 68523}}, 'HY': {'total': 119}, 'LNG': {'total': 121}, 'CNG': {'total': 1424}, 'LPG': {'total': 2824}, 'RD': {'total': 610}}}, 'fuel_stations': [{'access_code': 'private', 'access_days_time': None, 'access_detail_code': None, 'cards_accepted': None, 'date_last_confirmed': '2023-04-06', 'expected_date': None, 'fuel_type_code': 'CNG', 'groups_with_access_code': 'Private', 'id': 17, 'open_date': '2010-12-01', 'owner_type_code': 'T', 'status_code': 'E', 'restricted_access': None, 'maximum_vehicle_class': 'MD', 'station_name': 'Spire - Montgomery Operations Center', 'station_phone': None, 'updated_at': '2023-05-30T18:46:28Z', 'facility_type': 'STANDALONE_STATION', 'geocode_status': '200-9', 'latitude': 32.367916, 'longitude': -86.267021, 'city': 'Montgomery', 'intersection_directions': None, 'plus4': None, 'state': 'AL', 'street_address': '2951 Chestnut St', 'zip': '36107', 'country': 'US', 'bd_blends': None, 'cng_dispenser_num': None, 'cng_fill_type_code': 'B', 'cng_psi': '3600', 'cng_renewable_source': None, 'cng_total_compression': None, 'cng_total_storage': None, 'cng_vehicle_class': 'MD', 'cng_has_rng': False, 'e85_blender_pump': None, 'e85_other_ethanol_blends': None, 'ev_connector_types': None, 'ev_dc_fast_num': None, 'ev_level1_evse_num': None, 'ev_level2_evse_num': None, 'ev_network': None, 'ev_network_web': None, 'ev_other_evse': None, 'ev_pricing': None, 'ev_renewable_source': None, 'ev_workplace_charging': None, 'hy_is_retail': None, 'hy_pressures': None, 'hy_standards': None, 'hy_status_link': None, 'lng_renewable_source': None, 'lng_vehicle_class': None, 'lng_has_rng': None, 'lpg_primary': None, 'lpg_nozzle_types': None, 'ng_fill_type_code': 'B', 'ng_psi': '3600', 'ng_vehicle_class': 'MD', 'rd_blends': None, 'rd_blends_fr': None, 'rd_blended_with_biodiesel': None, 'rd_max_biodiesel_level': None, 'nps_unit_name': None, 'access_days_time_fr': None, 'intersection_directions_fr': None, 'bd_blends_fr': None, 'groups_with_access_code_fr': 'Privé', 'ev_pricing_fr': None}]}\n"
     ]
    }
   ],
   "source": [
    "!curl 'https://developer.nrel.gov/api/alt-fuel-stations/v1.json?limit=1&api_key=bGbbSmTo0iwwkigZYneUjKbRNQaiHWB9udqTojnW'\n",
    "ev_url = 'https://developer.nrel.gov/api/alt-fuel-stations/v1.json?limit=1&api_key=bGbbSmTo0iwwkigZYneUjKbRNQaiHWB9udqTojnW'\n",
    "print(requests.get(ev_url))\n",
    "print(requests.get(ev_url).json())\n",
    "response = requests.get(ev_url).json()"
   ]
  },
  {
   "cell_type": "code",
   "execution_count": 3,
   "id": "c32392e5",
   "metadata": {},
   "outputs": [
    {
     "name": "stdout",
     "output_type": "stream",
     "text": [
      "{\n",
      "    \"fuel_stations\": [\n",
      "        {\n",
      "            \"access_code\": \"private\",\n",
      "            \"access_days_time\": null,\n",
      "            \"access_days_time_fr\": null,\n",
      "            \"access_detail_code\": null,\n",
      "            \"bd_blends\": null,\n",
      "            \"bd_blends_fr\": null,\n",
      "            \"cards_accepted\": null,\n",
      "            \"city\": \"Montgomery\",\n",
      "            \"cng_dispenser_num\": null,\n",
      "            \"cng_fill_type_code\": \"B\",\n",
      "            \"cng_has_rng\": false,\n",
      "            \"cng_psi\": \"3600\",\n",
      "            \"cng_renewable_source\": null,\n",
      "            \"cng_total_compression\": null,\n",
      "            \"cng_total_storage\": null,\n",
      "            \"cng_vehicle_class\": \"MD\",\n",
      "            \"country\": \"US\",\n",
      "            \"date_last_confirmed\": \"2023-04-06\",\n",
      "            \"e85_blender_pump\": null,\n",
      "            \"e85_other_ethanol_blends\": null,\n",
      "            \"ev_connector_types\": null,\n",
      "            \"ev_dc_fast_num\": null,\n",
      "            \"ev_level1_evse_num\": null,\n",
      "            \"ev_level2_evse_num\": null,\n",
      "            \"ev_network\": null,\n",
      "            \"ev_network_web\": null,\n",
      "            \"ev_other_evse\": null,\n",
      "            \"ev_pricing\": null,\n",
      "            \"ev_pricing_fr\": null,\n",
      "            \"ev_renewable_source\": null,\n",
      "            \"ev_workplace_charging\": null,\n",
      "            \"expected_date\": null,\n",
      "            \"facility_type\": \"STANDALONE_STATION\",\n",
      "            \"fuel_type_code\": \"CNG\",\n",
      "            \"geocode_status\": \"200-9\",\n",
      "            \"groups_with_access_code\": \"Private\",\n",
      "            \"groups_with_access_code_fr\": \"Priv\\u00e9\",\n",
      "            \"hy_is_retail\": null,\n",
      "            \"hy_pressures\": null,\n",
      "            \"hy_standards\": null,\n",
      "            \"hy_status_link\": null,\n",
      "            \"id\": 17,\n",
      "            \"intersection_directions\": null,\n",
      "            \"intersection_directions_fr\": null,\n",
      "            \"latitude\": 32.367916,\n",
      "            \"lng_has_rng\": null,\n",
      "            \"lng_renewable_source\": null,\n",
      "            \"lng_vehicle_class\": null,\n",
      "            \"longitude\": -86.267021,\n",
      "            \"lpg_nozzle_types\": null,\n",
      "            \"lpg_primary\": null,\n",
      "            \"maximum_vehicle_class\": \"MD\",\n",
      "            \"ng_fill_type_code\": \"B\",\n",
      "            \"ng_psi\": \"3600\",\n",
      "            \"ng_vehicle_class\": \"MD\",\n",
      "            \"nps_unit_name\": null,\n",
      "            \"open_date\": \"2010-12-01\",\n",
      "            \"owner_type_code\": \"T\",\n",
      "            \"plus4\": null,\n",
      "            \"rd_blended_with_biodiesel\": null,\n",
      "            \"rd_blends\": null,\n",
      "            \"rd_blends_fr\": null,\n",
      "            \"rd_max_biodiesel_level\": null,\n",
      "            \"restricted_access\": null,\n",
      "            \"state\": \"AL\",\n",
      "            \"station_name\": \"Spire - Montgomery Operations Center\",\n",
      "            \"station_phone\": null,\n",
      "            \"status_code\": \"E\",\n",
      "            \"street_address\": \"2951 Chestnut St\",\n",
      "            \"updated_at\": \"2023-05-30T18:46:28Z\",\n",
      "            \"zip\": \"36107\"\n",
      "        }\n",
      "    ],\n",
      "    \"station_counts\": {\n",
      "        \"fuels\": {\n",
      "            \"BD\": {\n",
      "                \"total\": 1701\n",
      "            },\n",
      "            \"CNG\": {\n",
      "                \"total\": 1424\n",
      "            },\n",
      "            \"E85\": {\n",
      "                \"total\": 4525\n",
      "            },\n",
      "            \"ELEC\": {\n",
      "                \"stations\": {\n",
      "                    \"total\": 68523\n",
      "                },\n",
      "                \"total\": 184488\n",
      "            },\n",
      "            \"HY\": {\n",
      "                \"total\": 119\n",
      "            },\n",
      "            \"LNG\": {\n",
      "                \"total\": 121\n",
      "            },\n",
      "            \"LPG\": {\n",
      "                \"total\": 2824\n",
      "            },\n",
      "            \"RD\": {\n",
      "                \"total\": 610\n",
      "            }\n",
      "        },\n",
      "        \"total\": 195812\n",
      "    },\n",
      "    \"station_locator_url\": \"https://afdc.energy.gov/stations/\",\n",
      "    \"total_results\": 79847\n",
      "}\n",
      "{'total': 195812, 'fuels': {'BD': {'total': 1701}, 'E85': {'total': 4525}, 'ELEC': {'total': 184488, 'stations': {'total': 68523}}, 'HY': {'total': 119}, 'LNG': {'total': 121}, 'CNG': {'total': 1424}, 'LPG': {'total': 2824}, 'RD': {'total': 610}}}\n"
     ]
    }
   ],
   "source": [
    "print(json.dumps(response, indent=4, sort_keys=True))\n",
    "print(response['station_counts'])"
   ]
  },
  {
   "cell_type": "code",
   "execution_count": null,
   "id": "0d325b43",
   "metadata": {},
   "outputs": [],
   "source": []
  }
 ],
 "metadata": {
  "kernelspec": {
   "display_name": "Python 3 (ipykernel)",
   "language": "python",
   "name": "python3"
  },
  "language_info": {
   "codemirror_mode": {
    "name": "ipython",
    "version": 3
   },
   "file_extension": ".py",
   "mimetype": "text/x-python",
   "name": "python",
   "nbconvert_exporter": "python",
   "pygments_lexer": "ipython3",
   "version": "3.10.13"
  }
 },
 "nbformat": 4,
 "nbformat_minor": 5
}
